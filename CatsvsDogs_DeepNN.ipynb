{
 "cells": [
  {
   "cell_type": "code",
   "execution_count": 16,
   "metadata": {
    "collapsed": false
   },
   "outputs": [],
   "source": [
    "import os\n",
    "import re\n",
    "import numpy as np\n",
    "from PIL import Image\n",
    "from random import shuffle"
   ]
  },
  {
   "cell_type": "code",
   "execution_count": 17,
   "metadata": {
    "collapsed": false
   },
   "outputs": [],
   "source": [
    "from keras.models import Sequential\n",
    "from keras.layers import Dense, Dropout, Activation, Flatten\n",
    "from keras.layers import Convolution2D, MaxPooling2D\n",
    "from keras.utils import np_utils"
   ]
  },
  {
   "cell_type": "code",
   "execution_count": 18,
   "metadata": {
    "collapsed": true
   },
   "outputs": [],
   "source": [
    "np.random.seed(1337)  # for reproducibility"
   ]
  },
  {
   "cell_type": "code",
   "execution_count": 19,
   "metadata": {
    "collapsed": true
   },
   "outputs": [],
   "source": [
    "batch_size = 200\n",
    "nb_classes = 2\n",
    "nb_epoch = 25"
   ]
  },
  {
   "cell_type": "code",
   "execution_count": 20,
   "metadata": {
    "collapsed": true
   },
   "outputs": [],
   "source": [
    "# input image dimensions\n",
    "img_rows, img_cols = 100, 100\n",
    "\n",
    "# input shape\n",
    "input_shape = (img_rows, img_cols, 1)"
   ]
  },
  {
   "cell_type": "code",
   "execution_count": 13,
   "metadata": {
    "collapsed": false
   },
   "outputs": [],
   "source": [
    "def img_to_matrix(filename):\n",
    "    \"\"\"\n",
    "    takes a filename and turns it into a numpy array of greyscale pixels\n",
    "    \"\"\"\n",
    "    img = Image.open(filename).convert('L')\n",
    "    img = img.resize((img_rows, img_cols))\n",
    "    img = list(img.getdata())\n",
    "    img = np.array(img)\n",
    "    img = img.reshape(img_rows, img_cols, 1)\n",
    "    return img"
   ]
  },
  {
   "cell_type": "code",
   "execution_count": 14,
   "metadata": {
    "collapsed": false
   },
   "outputs": [],
   "source": [
    "img_dir = \"train/\"\n",
    "image_files = [img_dir + f for f in os.listdir(img_dir)]\n",
    "\n",
    "shuffle(image_files)\n",
    "\n",
    "train_size = 5 * len(image_files) // 6\n",
    "\n",
    "train_images = image_files[:train_size]\n",
    "test_images = image_files[train_size:]"
   ]
  },
  {
   "cell_type": "code",
   "execution_count": 21,
   "metadata": {
    "collapsed": true
   },
   "outputs": [],
   "source": [
    "X_train = [img_to_matrix(train_image) for train_image in train_images]\n",
    "Y_train = [0 if \"cat\" in f.split('/')[-1] else 1 for f in train_images]\n",
    "\n",
    "X_test = [img_to_matrix(test_image) for test_image in test_images]\n",
    "Y_test = [0 if \"cat\" in f.split('/')[-1] else 1 for f in test_images]\n",
    "\n",
    "X_train = np.array(X_train)\n",
    "X_test = np.array(X_test)"
   ]
  },
  {
   "cell_type": "code",
   "execution_count": 22,
   "metadata": {
    "collapsed": true
   },
   "outputs": [],
   "source": [
    "X_train = X_train.astype('float32')\n",
    "X_test = X_test.astype('float32')\n",
    "X_train /= 255\n",
    "X_test /= 255"
   ]
  },
  {
   "cell_type": "code",
   "execution_count": 23,
   "metadata": {
    "collapsed": false
   },
   "outputs": [
    {
     "name": "stdout",
     "output_type": "stream",
     "text": [
      "X_train shape: (20833, 100, 100, 1)\n",
      "20833 train samples\n",
      "4167 test samples\n"
     ]
    }
   ],
   "source": [
    "print('X_train shape:', X_train.shape)\n",
    "print(X_train.shape[0], 'train samples')\n",
    "print(X_test.shape[0], 'test samples')"
   ]
  },
  {
   "cell_type": "code",
   "execution_count": 24,
   "metadata": {
    "collapsed": false
   },
   "outputs": [],
   "source": [
    "# convert class vectors to binary class matrices\n",
    "Y_train = np_utils.to_categorical(Y_train, nb_classes)\n",
    "Y_test = np_utils.to_categorical(Y_test, nb_classes)"
   ]
  },
  {
   "cell_type": "code",
   "execution_count": 25,
   "metadata": {
    "collapsed": true
   },
   "outputs": [],
   "source": [
    "model = Sequential()"
   ]
  },
  {
   "cell_type": "code",
   "execution_count": 26,
   "metadata": {
    "collapsed": false
   },
   "outputs": [],
   "source": [
    "model.add(Convolution2D(8, 9, 9, input_shape=input_shape))\n",
    "model.add(Activation('relu'))"
   ]
  },
  {
   "cell_type": "code",
   "execution_count": 27,
   "metadata": {
    "collapsed": true
   },
   "outputs": [],
   "source": [
    "model.add(MaxPooling2D(pool_size=(2, 2)))"
   ]
  },
  {
   "cell_type": "code",
   "execution_count": 28,
   "metadata": {
    "collapsed": true
   },
   "outputs": [],
   "source": [
    "model.add(Convolution2D(16, 7, 7))\n",
    "model.add(Activation('relu'))"
   ]
  },
  {
   "cell_type": "code",
   "execution_count": 29,
   "metadata": {
    "collapsed": true
   },
   "outputs": [],
   "source": [
    "model.add(MaxPooling2D(pool_size=(2, 2)))"
   ]
  },
  {
   "cell_type": "code",
   "execution_count": 30,
   "metadata": {
    "collapsed": true
   },
   "outputs": [],
   "source": [
    "model.add(Convolution2D(32, 5, 5))\n",
    "model.add(Activation('relu'))"
   ]
  },
  {
   "cell_type": "code",
   "execution_count": 31,
   "metadata": {
    "collapsed": true
   },
   "outputs": [],
   "source": [
    "model.add(MaxPooling2D(pool_size=(2, 2)))"
   ]
  },
  {
   "cell_type": "code",
   "execution_count": 32,
   "metadata": {
    "collapsed": true
   },
   "outputs": [],
   "source": [
    "model.add(Convolution2D(64, 3, 3))\n",
    "model.add(Activation('relu'))"
   ]
  },
  {
   "cell_type": "code",
   "execution_count": 33,
   "metadata": {
    "collapsed": true
   },
   "outputs": [],
   "source": [
    "model.add(MaxPooling2D(pool_size=(2, 2)))"
   ]
  },
  {
   "cell_type": "code",
   "execution_count": 34,
   "metadata": {
    "collapsed": true
   },
   "outputs": [],
   "source": [
    "model.add(Convolution2D(250, 3, 3))\n",
    "model.add(Activation('relu'))"
   ]
  },
  {
   "cell_type": "code",
   "execution_count": 35,
   "metadata": {
    "collapsed": true
   },
   "outputs": [],
   "source": [
    "model.add(Flatten())\n",
    "model.add(Dense(nb_classes))\n",
    "model.add(Activation('softmax'))"
   ]
  },
  {
   "cell_type": "code",
   "execution_count": 36,
   "metadata": {
    "collapsed": true
   },
   "outputs": [],
   "source": [
    "model.compile(loss='categorical_crossentropy',\n",
    "              optimizer='adadelta',\n",
    "              metrics=['accuracy'])"
   ]
  },
  {
   "cell_type": "code",
   "execution_count": 37,
   "metadata": {
    "collapsed": false,
    "scrolled": true
   },
   "outputs": [
    {
     "name": "stdout",
     "output_type": "stream",
     "text": [
      "Train on 20833 samples, validate on 4167 samples\n",
      "Epoch 1/25\n",
      "20833/20833 [==============================] - 28s - loss: 0.6912 - acc: 0.5305 - val_loss: 0.6868 - val_acc: 0.5491\n",
      "Epoch 2/25\n",
      "20833/20833 [==============================] - 24s - loss: 0.6822 - acc: 0.5630 - val_loss: 0.7251 - val_acc: 0.4994\n",
      "Epoch 3/25\n",
      "20833/20833 [==============================] - 24s - loss: 0.6724 - acc: 0.5810 - val_loss: 0.7170 - val_acc: 0.5404\n",
      "Epoch 4/25\n",
      "20833/20833 [==============================] - 24s - loss: 0.6519 - acc: 0.6184 - val_loss: 0.6392 - val_acc: 0.6338\n",
      "Epoch 5/25\n",
      "20833/20833 [==============================] - 24s - loss: 0.6136 - acc: 0.6660 - val_loss: 0.5824 - val_acc: 0.6935\n",
      "Epoch 6/25\n",
      "20833/20833 [==============================] - 24s - loss: 0.5727 - acc: 0.7012 - val_loss: 0.6566 - val_acc: 0.6367\n",
      "Epoch 7/25\n",
      "20833/20833 [==============================] - 24s - loss: 0.5360 - acc: 0.7289 - val_loss: 0.5475 - val_acc: 0.7183\n",
      "Epoch 8/25\n",
      "20833/20833 [==============================] - 24s - loss: 0.5105 - acc: 0.7504 - val_loss: 0.5465 - val_acc: 0.7279\n",
      "Epoch 9/25\n",
      "20833/20833 [==============================] - 24s - loss: 0.4879 - acc: 0.7646 - val_loss: 0.4942 - val_acc: 0.7576\n",
      "Epoch 10/25\n",
      "20833/20833 [==============================] - 24s - loss: 0.4624 - acc: 0.7806 - val_loss: 0.4982 - val_acc: 0.7557\n",
      "Epoch 11/25\n",
      "20833/20833 [==============================] - 24s - loss: 0.4506 - acc: 0.7875 - val_loss: 0.4613 - val_acc: 0.7761\n",
      "Epoch 12/25\n",
      "20833/20833 [==============================] - 24s - loss: 0.4321 - acc: 0.7986 - val_loss: 0.4693 - val_acc: 0.7756\n",
      "Epoch 13/25\n",
      "20833/20833 [==============================] - 24s - loss: 0.4187 - acc: 0.8078 - val_loss: 0.4794 - val_acc: 0.7706\n",
      "Epoch 14/25\n",
      "20833/20833 [==============================] - 24s - loss: 0.4027 - acc: 0.8178 - val_loss: 0.5302 - val_acc: 0.7447\n",
      "Epoch 15/25\n",
      "20833/20833 [==============================] - 24s - loss: 0.3968 - acc: 0.8220 - val_loss: 0.4416 - val_acc: 0.7955\n",
      "Epoch 16/25\n",
      "20833/20833 [==============================] - 24s - loss: 0.3804 - acc: 0.8313 - val_loss: 0.5775 - val_acc: 0.7286\n",
      "Epoch 17/25\n",
      "20833/20833 [==============================] - 24s - loss: 0.3674 - acc: 0.8367 - val_loss: 0.4792 - val_acc: 0.7811\n",
      "Epoch 18/25\n",
      "20833/20833 [==============================] - 24s - loss: 0.3584 - acc: 0.8413 - val_loss: 0.4374 - val_acc: 0.8003\n",
      "Epoch 19/25\n",
      "20833/20833 [==============================] - 24s - loss: 0.3462 - acc: 0.8465 - val_loss: 0.7257 - val_acc: 0.6943\n",
      "Epoch 20/25\n",
      "20833/20833 [==============================] - 24s - loss: 0.3368 - acc: 0.8517 - val_loss: 0.4564 - val_acc: 0.7895\n",
      "Epoch 21/25\n",
      "20833/20833 [==============================] - 24s - loss: 0.3214 - acc: 0.8616 - val_loss: 0.4457 - val_acc: 0.7895\n",
      "Epoch 22/25\n",
      "20833/20833 [==============================] - 24s - loss: 0.3102 - acc: 0.8671 - val_loss: 0.7073 - val_acc: 0.7127\n",
      "Epoch 23/25\n",
      "20833/20833 [==============================] - 24s - loss: 0.3090 - acc: 0.8658 - val_loss: 0.4670 - val_acc: 0.7970\n",
      "Epoch 24/25\n",
      "20833/20833 [==============================] - 24s - loss: 0.2850 - acc: 0.8797 - val_loss: 0.5216 - val_acc: 0.7511\n",
      "Epoch 25/25\n",
      "20833/20833 [==============================] - 24s - loss: 0.2732 - acc: 0.8871 - val_loss: 0.5595 - val_acc: 0.7727\n"
     ]
    },
    {
     "data": {
      "text/plain": [
       "<keras.callbacks.History at 0x14e8b1721d0>"
      ]
     },
     "execution_count": 37,
     "metadata": {},
     "output_type": "execute_result"
    }
   ],
   "source": [
    "model.fit(X_train, Y_train, batch_size=batch_size, nb_epoch=nb_epoch,\n",
    "          verbose=1, validation_data=(X_test, Y_test))"
   ]
  },
  {
   "cell_type": "code",
   "execution_count": 38,
   "metadata": {
    "collapsed": false
   },
   "outputs": [
    {
     "name": "stdout",
     "output_type": "stream",
     "text": [
      "Test score: 0.559454110348\n",
      "Test accuracy: 0.772738180974\n"
     ]
    }
   ],
   "source": [
    "score = model.evaluate(X_test, Y_test, verbose=0)\n",
    "print('Test score:', score[0])\n",
    "print('Test accuracy:', score[1])"
   ]
  },
  {
   "cell_type": "code",
   "execution_count": 40,
   "metadata": {
    "collapsed": true
   },
   "outputs": [],
   "source": [
    "# Save model\n",
    "model_json = model.to_json()\n",
    "\n",
    "with open(\"model.json\", \"w\") as json_file:\n",
    "    json_file.write(model_json)\n",
    "    \n",
    "# serialize weights to HDF5\n",
    "model.save_weights(\"model.h5\")"
   ]
  },
  {
   "cell_type": "code",
   "execution_count": null,
   "metadata": {
    "collapsed": true
   },
   "outputs": [],
   "source": []
  }
 ],
 "metadata": {
  "anaconda-cloud": {},
  "kernelspec": {
   "display_name": "Python [default]",
   "language": "python",
   "name": "python3"
  },
  "language_info": {
   "codemirror_mode": {
    "name": "ipython",
    "version": 3
   },
   "file_extension": ".py",
   "mimetype": "text/x-python",
   "name": "python",
   "nbconvert_exporter": "python",
   "pygments_lexer": "ipython3",
   "version": "3.5.2"
  }
 },
 "nbformat": 4,
 "nbformat_minor": 0
}
